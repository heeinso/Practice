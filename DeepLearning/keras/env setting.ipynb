{
 "cells": [
  {
   "cell_type": "code",
   "execution_count": 1,
   "metadata": {
    "scrolled": true
   },
   "outputs": [
    {
     "name": "stderr",
     "output_type": "stream",
     "text": [
      "Using TensorFlow backend.\n"
     ]
    },
    {
     "name": "stdout",
     "output_type": "stream",
     "text": [
      "scipy 0.19.1\n",
      "numpy 1.13.1\n",
      "matplotlib 2.0.2\n",
      "pandas 0.20.3\n",
      "sklearn 0.19.0\n",
      "pydot 1.2.3\n",
      "h5py 2.7.1\n",
      "theano 0.9.0\n",
      "tensorflow 1.3.0\n",
      "keras 2.0.8\n"
     ]
    }
   ],
   "source": [
    "import scipy\n",
    "import numpy\n",
    "import matplotlib\n",
    "import pandas\n",
    "import sklearn\n",
    "import pydot\n",
    "import h5py\n",
    "\n",
    "import theano\n",
    "import tensorflow\n",
    "import keras\n",
    "\n",
    "print('scipy ' + scipy.__version__)\n",
    "print('numpy ' + numpy.__version__)\n",
    "print('matplotlib ' + matplotlib.__version__)\n",
    "print('pandas ' + pandas.__version__)\n",
    "print('sklearn ' + sklearn.__version__)\n",
    "print('pydot ' + pydot.__version__)\n",
    "print('h5py ' + h5py.__version__)\n",
    "\n",
    "print('theano ' + theano.__version__)\n",
    "print('tensorflow ' + tensorflow.__version__)\n",
    "print('keras ' + keras.__version__)"
   ]
  },
  {
   "cell_type": "code",
   "execution_count": 2,
   "metadata": {},
   "outputs": [
    {
     "name": "stdout",
     "output_type": "stream",
     "text": [
      "Downloading data from https://s3.amazonaws.com/img-datasets/mnist.npz\n",
      "11476992/11490434 [============================>.] - ETA: 0sEpoch 1/5\n",
      "60000/60000 [==============================] - 3s - loss: 0.6883 - acc: 0.8223     \n",
      "Epoch 2/5\n",
      "60000/60000 [==============================] - 3s - loss: 0.3512 - acc: 0.9016     \n",
      "Epoch 3/5\n",
      "60000/60000 [==============================] - 3s - loss: 0.3032 - acc: 0.9133     \n",
      "Epoch 4/5\n",
      "60000/60000 [==============================] - 3s - loss: 0.2737 - acc: 0.9219     \n",
      "Epoch 5/5\n",
      "60000/60000 [==============================] - 3s - loss: 0.2496 - acc: 0.9298     \n",
      " 9696/10000 [============================>.] - ETA: 0sloss_and_metrics : [0.23198304635584355, 0.93459999999999999]\n"
     ]
    }
   ],
   "source": [
    "from keras.utils import np_utils\n",
    "from keras.datasets import mnist\n",
    "from keras.models import Sequential\n",
    "from keras.layers import Dense, Activation\n",
    "\n",
    "(X_train, Y_train), (X_test, Y_test) = mnist.load_data()\n",
    "X_train = X_train.reshape(60000, 784).astype('float32') / 255.0\n",
    "X_test = X_test.reshape(10000, 784).astype('float32') / 255.0\n",
    "Y_train = np_utils.to_categorical(Y_train)\n",
    "Y_test = np_utils.to_categorical(Y_test)\n",
    "\n",
    "model = Sequential()\n",
    "model.add(Dense(units=64, input_dim=28*28, activation='relu'))\n",
    "model.add(Dense(units=10, activation='softmax'))\n",
    "model.compile(loss='categorical_crossentropy', optimizer='sgd', metrics=['accuracy'])\n",
    "model.fit(X_train, Y_train, epochs=5, batch_size=32)\n",
    "\n",
    "loss_and_metrics = model.evaluate(X_test, Y_test, batch_size=32)\n",
    "\n",
    "print('loss_and_metrics : ' + str(loss_and_metrics))"
   ]
  },
  {
   "cell_type": "code",
   "execution_count": 3,
   "metadata": {},
   "outputs": [
    {
     "data": {
      "image/svg+xml": [
       "<svg height=\"215pt\" viewBox=\"0.00 0.00 314.56 215.00\" width=\"315pt\" xmlns=\"http://www.w3.org/2000/svg\" xmlns:xlink=\"http://www.w3.org/1999/xlink\">\n",
       "<g class=\"graph\" id=\"graph0\" transform=\"scale(1 1) rotate(0) translate(4 211)\">\n",
       "<title>G</title>\n",
       "<polygon fill=\"#ffffff\" points=\"-4,4 -4,-211 310.5557,-211 310.5557,4 -4,4\" stroke=\"transparent\"/>\n",
       "<!-- 4752084624 -->\n",
       "<g class=\"node\" id=\"node1\">\n",
       "<title>4752084624</title>\n",
       "<polygon fill=\"none\" points=\"0,-162.5 0,-206.5 306.5557,-206.5 306.5557,-162.5 0,-162.5\" stroke=\"#000000\"/>\n",
       "<text fill=\"#000000\" font-family=\"Times,serif\" font-size=\"14.00\" text-anchor=\"middle\" x=\"83.6191\" y=\"-180.3\">dense_1_input: InputLayer</text>\n",
       "<polyline fill=\"none\" points=\"167.2383,-162.5 167.2383,-206.5 \" stroke=\"#000000\"/>\n",
       "<text fill=\"#000000\" font-family=\"Times,serif\" font-size=\"14.00\" text-anchor=\"middle\" x=\"195.0728\" y=\"-191.3\">input:</text>\n",
       "<polyline fill=\"none\" points=\"167.2383,-184.5 222.9072,-184.5 \" stroke=\"#000000\"/>\n",
       "<text fill=\"#000000\" font-family=\"Times,serif\" font-size=\"14.00\" text-anchor=\"middle\" x=\"195.0728\" y=\"-169.3\">output:</text>\n",
       "<polyline fill=\"none\" points=\"222.9072,-162.5 222.9072,-206.5 \" stroke=\"#000000\"/>\n",
       "<text fill=\"#000000\" font-family=\"Times,serif\" font-size=\"14.00\" text-anchor=\"middle\" x=\"264.7314\" y=\"-191.3\">(None, 784)</text>\n",
       "<polyline fill=\"none\" points=\"222.9072,-184.5 306.5557,-184.5 \" stroke=\"#000000\"/>\n",
       "<text fill=\"#000000\" font-family=\"Times,serif\" font-size=\"14.00\" text-anchor=\"middle\" x=\"264.7314\" y=\"-169.3\">(None, 784)</text>\n",
       "</g>\n",
       "<!-- 4497796560 -->\n",
       "<g class=\"node\" id=\"node2\">\n",
       "<title>4497796560</title>\n",
       "<polygon fill=\"none\" points=\"31.4932,-81.5 31.4932,-125.5 275.0625,-125.5 275.0625,-81.5 31.4932,-81.5\" stroke=\"#000000\"/>\n",
       "<text fill=\"#000000\" font-family=\"Times,serif\" font-size=\"14.00\" text-anchor=\"middle\" x=\"83.6191\" y=\"-99.3\">dense_1: Dense</text>\n",
       "<polyline fill=\"none\" points=\"135.7451,-81.5 135.7451,-125.5 \" stroke=\"#000000\"/>\n",
       "<text fill=\"#000000\" font-family=\"Times,serif\" font-size=\"14.00\" text-anchor=\"middle\" x=\"163.5796\" y=\"-110.3\">input:</text>\n",
       "<polyline fill=\"none\" points=\"135.7451,-103.5 191.4141,-103.5 \" stroke=\"#000000\"/>\n",
       "<text fill=\"#000000\" font-family=\"Times,serif\" font-size=\"14.00\" text-anchor=\"middle\" x=\"163.5796\" y=\"-88.3\">output:</text>\n",
       "<polyline fill=\"none\" points=\"191.4141,-81.5 191.4141,-125.5 \" stroke=\"#000000\"/>\n",
       "<text fill=\"#000000\" font-family=\"Times,serif\" font-size=\"14.00\" text-anchor=\"middle\" x=\"233.2383\" y=\"-110.3\">(None, 784)</text>\n",
       "<polyline fill=\"none\" points=\"191.4141,-103.5 275.0625,-103.5 \" stroke=\"#000000\"/>\n",
       "<text fill=\"#000000\" font-family=\"Times,serif\" font-size=\"14.00\" text-anchor=\"middle\" x=\"233.2383\" y=\"-88.3\">(None, 64)</text>\n",
       "</g>\n",
       "<!-- 4752084624&#45;&gt;4497796560 -->\n",
       "<g class=\"edge\" id=\"edge1\">\n",
       "<title>4752084624-&gt;4497796560</title>\n",
       "<path d=\"M153.2778,-162.3664C153.2778,-154.1516 153.2778,-144.6579 153.2778,-135.7252\" fill=\"none\" stroke=\"#000000\"/>\n",
       "<polygon fill=\"#000000\" points=\"156.7779,-135.6068 153.2778,-125.6068 149.7779,-135.6069 156.7779,-135.6068\" stroke=\"#000000\"/>\n",
       "</g>\n",
       "<!-- 4497656848 -->\n",
       "<g class=\"node\" id=\"node3\">\n",
       "<title>4497656848</title>\n",
       "<polygon fill=\"none\" points=\"34.9932,-.5 34.9932,-44.5 271.5625,-44.5 271.5625,-.5 34.9932,-.5\" stroke=\"#000000\"/>\n",
       "<text fill=\"#000000\" font-family=\"Times,serif\" font-size=\"14.00\" text-anchor=\"middle\" x=\"87.1191\" y=\"-18.3\">dense_2: Dense</text>\n",
       "<polyline fill=\"none\" points=\"139.2451,-.5 139.2451,-44.5 \" stroke=\"#000000\"/>\n",
       "<text fill=\"#000000\" font-family=\"Times,serif\" font-size=\"14.00\" text-anchor=\"middle\" x=\"167.0796\" y=\"-29.3\">input:</text>\n",
       "<polyline fill=\"none\" points=\"139.2451,-22.5 194.9141,-22.5 \" stroke=\"#000000\"/>\n",
       "<text fill=\"#000000\" font-family=\"Times,serif\" font-size=\"14.00\" text-anchor=\"middle\" x=\"167.0796\" y=\"-7.3\">output:</text>\n",
       "<polyline fill=\"none\" points=\"194.9141,-.5 194.9141,-44.5 \" stroke=\"#000000\"/>\n",
       "<text fill=\"#000000\" font-family=\"Times,serif\" font-size=\"14.00\" text-anchor=\"middle\" x=\"233.2383\" y=\"-29.3\">(None, 64)</text>\n",
       "<polyline fill=\"none\" points=\"194.9141,-22.5 271.5625,-22.5 \" stroke=\"#000000\"/>\n",
       "<text fill=\"#000000\" font-family=\"Times,serif\" font-size=\"14.00\" text-anchor=\"middle\" x=\"233.2383\" y=\"-7.3\">(None, 10)</text>\n",
       "</g>\n",
       "<!-- 4497796560&#45;&gt;4497656848 -->\n",
       "<g class=\"edge\" id=\"edge2\">\n",
       "<title>4497796560-&gt;4497656848</title>\n",
       "<path d=\"M153.2778,-81.3664C153.2778,-73.1516 153.2778,-63.6579 153.2778,-54.7252\" fill=\"none\" stroke=\"#000000\"/>\n",
       "<polygon fill=\"#000000\" points=\"156.7779,-54.6068 153.2778,-44.6068 149.7779,-54.6069 156.7779,-54.6068\" stroke=\"#000000\"/>\n",
       "</g>\n",
       "</g>\n",
       "</svg>"
      ],
      "text/plain": [
       "<IPython.core.display.SVG object>"
      ]
     },
     "execution_count": 3,
     "metadata": {},
     "output_type": "execute_result"
    }
   ],
   "source": [
    "from IPython.display import SVG\n",
    "from keras.utils.vis_utils import model_to_dot\n",
    "\n",
    "%matplotlib inline\n",
    "\n",
    "SVG(model_to_dot(model, show_shapes=True).create(prog='dot', format='svg'))"
   ]
  },
  {
   "cell_type": "code",
   "execution_count": 4,
   "metadata": {},
   "outputs": [],
   "source": [
    "from keras.models import load_model\n",
    "\n",
    "model.save('mnist_mlp_model.h5')\n",
    "model = load_model('mnist_mlp_model.h5')"
   ]
  },
  {
   "cell_type": "code",
   "execution_count": null,
   "metadata": {},
   "outputs": [],
   "source": []
  }
 ],
 "metadata": {
  "kernelspec": {
   "display_name": "Python 2",
   "language": "python",
   "name": "python2"
  },
  "language_info": {
   "codemirror_mode": {
    "name": "ipython",
    "version": 2
   },
   "file_extension": ".py",
   "mimetype": "text/x-python",
   "name": "python",
   "nbconvert_exporter": "python",
   "pygments_lexer": "ipython2",
   "version": "2.7.10"
  }
 },
 "nbformat": 4,
 "nbformat_minor": 2
}
